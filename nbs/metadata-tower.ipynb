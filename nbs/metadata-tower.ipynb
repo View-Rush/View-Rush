{
 "cells": [
  {
   "cell_type": "code",
   "execution_count": 1,
   "id": "cc34ae8a",
   "metadata": {
    "execution": {
     "iopub.execute_input": "2025-09-16T10:30:18.497474Z",
     "iopub.status.busy": "2025-09-16T10:30:18.497153Z",
     "iopub.status.idle": "2025-09-16T10:30:27.832525Z",
     "shell.execute_reply": "2025-09-16T10:30:27.831303Z"
    },
    "papermill": {
     "duration": 9.341822,
     "end_time": "2025-09-16T10:30:27.834117",
     "exception": false,
     "start_time": "2025-09-16T10:30:18.492295",
     "status": "completed"
    },
    "tags": []
   },
   "outputs": [
    {
     "name": "stdout",
     "output_type": "stream",
     "text": [
      "/kaggle/input/sri-lankan-youtube-video-data/FInalProcessedDataset1.csv\n",
      "/kaggle/input/sri-lankan-youtube-video-data/Balanced_final_dataset_by_weekday.csv\n",
      "/kaggle/input/sri-lankan-youtube-video-data/yt_data_merged_v2.csv\n",
      "/kaggle/input/sri-lankan-youtube-video-data/FinalProcessedDataset_03.csv\n",
      "/kaggle/input/sri-lankan-youtube-video-data/final_dataset_with_trending_unique_vids3.csv\n",
      "/kaggle/input/sri-lankan-youtube-video-data/FinalProcessedDataset_04.csv\n",
      "/kaggle/input/sri-lankan-youtube-video-data/yt_data_merged.csv\n"
     ]
    }
   ],
   "source": [
    "import numpy as np\n",
    "import pandas as pd\n",
    "import torch\n",
    "import torch.nn as nn\n",
    "from torch.utils.data import Dataset, DataLoader\n",
    "from sklearn.preprocessing import StandardScaler\n",
    "from sklearn.model_selection import train_test_split\n",
    "from collections import defaultdict\n",
    "\n",
    "import os\n",
    "for dirname, _, filenames in os.walk('/kaggle/input'):\n",
    "    for filename in filenames:\n",
    "        print(os.path.join(dirname, filename))"
   ]
  },
  {
   "cell_type": "code",
   "execution_count": 2,
   "id": "75682c0b",
   "metadata": {
    "execution": {
     "iopub.execute_input": "2025-09-16T10:30:27.842643Z",
     "iopub.status.busy": "2025-09-16T10:30:27.841612Z",
     "iopub.status.idle": "2025-09-16T10:30:34.050887Z",
     "shell.execute_reply": "2025-09-16T10:30:34.049316Z"
    },
    "papermill": {
     "duration": 6.215027,
     "end_time": "2025-09-16T10:30:34.052625",
     "exception": false,
     "start_time": "2025-09-16T10:30:27.837598",
     "status": "completed"
    },
    "tags": []
   },
   "outputs": [],
   "source": [
    "df = pd.read_csv('/kaggle/input/sri-lankan-youtube-video-data/FinalProcessedDataset_03.csv')"
   ]
  },
  {
   "cell_type": "code",
   "execution_count": 3,
   "id": "9e60adbe",
   "metadata": {
    "execution": {
     "iopub.execute_input": "2025-09-16T10:30:34.060936Z",
     "iopub.status.busy": "2025-09-16T10:30:34.060541Z",
     "iopub.status.idle": "2025-09-16T10:30:34.104412Z",
     "shell.execute_reply": "2025-09-16T10:30:34.103280Z"
    },
    "papermill": {
     "duration": 0.049828,
     "end_time": "2025-09-16T10:30:34.106169",
     "exception": false,
     "start_time": "2025-09-16T10:30:34.056341",
     "status": "completed"
    },
    "tags": []
   },
   "outputs": [
    {
     "data": {
      "text/html": [
       "<div>\n",
       "<style scoped>\n",
       "    .dataframe tbody tr th:only-of-type {\n",
       "        vertical-align: middle;\n",
       "    }\n",
       "\n",
       "    .dataframe tbody tr th {\n",
       "        vertical-align: top;\n",
       "    }\n",
       "\n",
       "    .dataframe thead th {\n",
       "        text-align: right;\n",
       "    }\n",
       "</style>\n",
       "<table border=\"1\" class=\"dataframe\">\n",
       "  <thead>\n",
       "    <tr style=\"text-align: right;\">\n",
       "      <th></th>\n",
       "      <th>title</th>\n",
       "      <th>channel_name</th>\n",
       "      <th>video_id</th>\n",
       "      <th>channel_id</th>\n",
       "      <th>publish_date</th>\n",
       "      <th>snapshot_date</th>\n",
       "      <th>country</th>\n",
       "      <th>view_count</th>\n",
       "      <th>like_count</th>\n",
       "      <th>comment_count</th>\n",
       "      <th>...</th>\n",
       "      <th>is_holiday</th>\n",
       "      <th>publish_date_naive</th>\n",
       "      <th>title_len</th>\n",
       "      <th>desc_len</th>\n",
       "      <th>tag_count</th>\n",
       "      <th>has_hashtag</th>\n",
       "      <th>views_per_hour_norm</th>\n",
       "      <th>duration_timedelta</th>\n",
       "      <th>duration_minutes</th>\n",
       "      <th>category_name</th>\n",
       "    </tr>\n",
       "  </thead>\n",
       "  <tbody>\n",
       "    <tr>\n",
       "      <th>0</th>\n",
       "      <td>Watch full short film!!👆@kaidoleeroberts429 #s...</td>\n",
       "      <td>Sofi Manassyan</td>\n",
       "      <td>o8rP66qVN-4</td>\n",
       "      <td>UCZFBnnCCO65xMXOdtFz8CfA</td>\n",
       "      <td>2025-09-06 18:14:11+00:00</td>\n",
       "      <td>2025-09-11 00:00:00+00:00</td>\n",
       "      <td>LK</td>\n",
       "      <td>286283</td>\n",
       "      <td>12778</td>\n",
       "      <td>277</td>\n",
       "      <td>...</td>\n",
       "      <td>False</td>\n",
       "      <td>2025-09-06 00:00:00</td>\n",
       "      <td>77</td>\n",
       "      <td>0.0</td>\n",
       "      <td>1</td>\n",
       "      <td>1</td>\n",
       "      <td>0.009381</td>\n",
       "      <td>0 days 00:01:48</td>\n",
       "      <td>1.800000</td>\n",
       "      <td>Film &amp; Animation</td>\n",
       "    </tr>\n",
       "    <tr>\n",
       "      <th>1</th>\n",
       "      <td>ToRung short film: 🙏 let's love each other ❤️</td>\n",
       "      <td>ToRung</td>\n",
       "      <td>07TTa5FHqz8</td>\n",
       "      <td>UCXbYlU08sOTBktOtjVsvR6w</td>\n",
       "      <td>2025-09-06 00:41:33+00:00</td>\n",
       "      <td>2025-09-11 00:00:00+00:00</td>\n",
       "      <td>LK</td>\n",
       "      <td>537527</td>\n",
       "      <td>6174</td>\n",
       "      <td>12</td>\n",
       "      <td>...</td>\n",
       "      <td>False</td>\n",
       "      <td>2025-09-06 00:00:00</td>\n",
       "      <td>45</td>\n",
       "      <td>139.0</td>\n",
       "      <td>13</td>\n",
       "      <td>0</td>\n",
       "      <td>0.017613</td>\n",
       "      <td>0 days 00:00:37</td>\n",
       "      <td>0.616667</td>\n",
       "      <td>Comedy</td>\n",
       "    </tr>\n",
       "    <tr>\n",
       "      <th>2</th>\n",
       "      <td>He messed with a wrong person #movieexplainedi...</td>\n",
       "      <td>CineClarity</td>\n",
       "      <td>6VfcnEBZ2dg</td>\n",
       "      <td>UCOHMJ8XnZL5TKZbY7Pj1yLA</td>\n",
       "      <td>2025-09-07 03:16:44+00:00</td>\n",
       "      <td>2025-09-11 00:00:00+00:00</td>\n",
       "      <td>LK</td>\n",
       "      <td>2693713</td>\n",
       "      <td>0</td>\n",
       "      <td>285</td>\n",
       "      <td>...</td>\n",
       "      <td>True</td>\n",
       "      <td>2025-09-07 00:00:00</td>\n",
       "      <td>60</td>\n",
       "      <td>396.0</td>\n",
       "      <td>17</td>\n",
       "      <td>1</td>\n",
       "      <td>0.088266</td>\n",
       "      <td>0 days 00:02:58</td>\n",
       "      <td>2.966667</td>\n",
       "      <td>Entertainment</td>\n",
       "    </tr>\n",
       "    <tr>\n",
       "      <th>3</th>\n",
       "      <td>সব কুলি চোর না। short film _natok3.2_bsngla na...</td>\n",
       "      <td>Natok3.2</td>\n",
       "      <td>BwR2GU0kovc</td>\n",
       "      <td>UCKkv7Lm0fprBm5LSaaKlZoA</td>\n",
       "      <td>2025-09-06 17:26:54+00:00</td>\n",
       "      <td>2025-09-11 00:00:00+00:00</td>\n",
       "      <td>LK</td>\n",
       "      <td>72606</td>\n",
       "      <td>723</td>\n",
       "      <td>1</td>\n",
       "      <td>...</td>\n",
       "      <td>False</td>\n",
       "      <td>2025-09-06 00:00:00</td>\n",
       "      <td>50</td>\n",
       "      <td>1591.0</td>\n",
       "      <td>1</td>\n",
       "      <td>0</td>\n",
       "      <td>0.002379</td>\n",
       "      <td>0 days 00:03:01</td>\n",
       "      <td>3.016667</td>\n",
       "      <td>Entertainment</td>\n",
       "    </tr>\n",
       "    <tr>\n",
       "      <th>4</th>\n",
       "      <td>😱Movie Recap Short Film Mystery Explained in H...</td>\n",
       "      <td>HowTo1C</td>\n",
       "      <td>EYBCNN_9E2M</td>\n",
       "      <td>UCtkFE68zgVgQimnkgJBSVmA</td>\n",
       "      <td>2025-09-07 09:30:08+00:00</td>\n",
       "      <td>2025-09-11 00:00:00+00:00</td>\n",
       "      <td>LK</td>\n",
       "      <td>22894</td>\n",
       "      <td>0</td>\n",
       "      <td>1</td>\n",
       "      <td>...</td>\n",
       "      <td>True</td>\n",
       "      <td>2025-09-07 00:00:00</td>\n",
       "      <td>98</td>\n",
       "      <td>2709.0</td>\n",
       "      <td>1</td>\n",
       "      <td>1</td>\n",
       "      <td>0.000750</td>\n",
       "      <td>0 days 00:00:37</td>\n",
       "      <td>0.616667</td>\n",
       "      <td>Entertainment</td>\n",
       "    </tr>\n",
       "  </tbody>\n",
       "</table>\n",
       "<p>5 rows × 34 columns</p>\n",
       "</div>"
      ],
      "text/plain": [
       "                                               title    channel_name  \\\n",
       "0  Watch full short film!!👆@kaidoleeroberts429 #s...  Sofi Manassyan   \n",
       "1      ToRung short film: 🙏 let's love each other ❤️          ToRung   \n",
       "2  He messed with a wrong person #movieexplainedi...     CineClarity   \n",
       "3  সব কুলি চোর না। short film _natok3.2_bsngla na...        Natok3.2   \n",
       "4  😱Movie Recap Short Film Mystery Explained in H...         HowTo1C   \n",
       "\n",
       "      video_id                channel_id               publish_date  \\\n",
       "0  o8rP66qVN-4  UCZFBnnCCO65xMXOdtFz8CfA  2025-09-06 18:14:11+00:00   \n",
       "1  07TTa5FHqz8  UCXbYlU08sOTBktOtjVsvR6w  2025-09-06 00:41:33+00:00   \n",
       "2  6VfcnEBZ2dg  UCOHMJ8XnZL5TKZbY7Pj1yLA  2025-09-07 03:16:44+00:00   \n",
       "3  BwR2GU0kovc  UCKkv7Lm0fprBm5LSaaKlZoA  2025-09-06 17:26:54+00:00   \n",
       "4  EYBCNN_9E2M  UCtkFE68zgVgQimnkgJBSVmA  2025-09-07 09:30:08+00:00   \n",
       "\n",
       "               snapshot_date country  view_count  like_count  comment_count  \\\n",
       "0  2025-09-11 00:00:00+00:00      LK      286283       12778            277   \n",
       "1  2025-09-11 00:00:00+00:00      LK      537527        6174             12   \n",
       "2  2025-09-11 00:00:00+00:00      LK     2693713           0            285   \n",
       "3  2025-09-11 00:00:00+00:00      LK       72606         723              1   \n",
       "4  2025-09-11 00:00:00+00:00      LK       22894           0              1   \n",
       "\n",
       "   ... is_holiday   publish_date_naive title_len desc_len tag_count  \\\n",
       "0  ...      False  2025-09-06 00:00:00        77      0.0         1   \n",
       "1  ...      False  2025-09-06 00:00:00        45    139.0        13   \n",
       "2  ...       True  2025-09-07 00:00:00        60    396.0        17   \n",
       "3  ...      False  2025-09-06 00:00:00        50   1591.0         1   \n",
       "4  ...       True  2025-09-07 00:00:00        98   2709.0         1   \n",
       "\n",
       "   has_hashtag views_per_hour_norm  duration_timedelta  duration_minutes  \\\n",
       "0            1            0.009381     0 days 00:01:48          1.800000   \n",
       "1            0            0.017613     0 days 00:00:37          0.616667   \n",
       "2            1            0.088266     0 days 00:02:58          2.966667   \n",
       "3            0            0.002379     0 days 00:03:01          3.016667   \n",
       "4            1            0.000750     0 days 00:00:37          0.616667   \n",
       "\n",
       "      category_name  \n",
       "0  Film & Animation  \n",
       "1            Comedy  \n",
       "2     Entertainment  \n",
       "3     Entertainment  \n",
       "4     Entertainment  \n",
       "\n",
       "[5 rows x 34 columns]"
      ]
     },
     "execution_count": 3,
     "metadata": {},
     "output_type": "execute_result"
    }
   ],
   "source": [
    "df.head()"
   ]
  },
  {
   "cell_type": "code",
   "execution_count": 4,
   "id": "9ccfcaec",
   "metadata": {
    "execution": {
     "iopub.execute_input": "2025-09-16T10:30:34.114719Z",
     "iopub.status.busy": "2025-09-16T10:30:34.114400Z",
     "iopub.status.idle": "2025-09-16T10:30:34.237559Z",
     "shell.execute_reply": "2025-09-16T10:30:34.236431Z"
    },
    "papermill": {
     "duration": 0.129382,
     "end_time": "2025-09-16T10:30:34.239314",
     "exception": false,
     "start_time": "2025-09-16T10:30:34.109932",
     "status": "completed"
    },
    "tags": []
   },
   "outputs": [
    {
     "name": "stdout",
     "output_type": "stream",
     "text": [
      "<class 'pandas.core.frame.DataFrame'>\n",
      "RangeIndex: 97766 entries, 0 to 97765\n",
      "Data columns (total 34 columns):\n",
      " #   Column               Non-Null Count  Dtype  \n",
      "---  ------               --------------  -----  \n",
      " 0   title                97766 non-null  object \n",
      " 1   channel_name         97766 non-null  object \n",
      " 2   video_id             97766 non-null  object \n",
      " 3   channel_id           97766 non-null  object \n",
      " 4   publish_date         97766 non-null  object \n",
      " 5   snapshot_date        97766 non-null  object \n",
      " 6   country              97766 non-null  object \n",
      " 7   view_count           97766 non-null  int64  \n",
      " 8   like_count           97766 non-null  int64  \n",
      " 9   comment_count        97766 non-null  int64  \n",
      " 10  description          97766 non-null  object \n",
      " 11  thumbnail_url        97766 non-null  object \n",
      " 12  video_tags           97766 non-null  object \n",
      " 13  kind                 97766 non-null  object \n",
      " 14  language             97766 non-null  object \n",
      " 15  category_id          97766 non-null  float64\n",
      " 16  duration             97766 non-null  object \n",
      " 17  days_since_publish   97766 non-null  float64\n",
      " 18  publish_weekday      97766 non-null  int64  \n",
      " 19  publish_hour         97766 non-null  int64  \n",
      " 20  is_weekend           97766 non-null  int64  \n",
      " 21  slot_id              97766 non-null  int64  \n",
      " 22  part_of_day          97766 non-null  object \n",
      " 23  views_per_hour       97766 non-null  float64\n",
      " 24  is_holiday           97766 non-null  bool   \n",
      " 25  publish_date_naive   97766 non-null  object \n",
      " 26  title_len            97766 non-null  int64  \n",
      " 27  desc_len             97766 non-null  float64\n",
      " 28  tag_count            97766 non-null  int64  \n",
      " 29  has_hashtag          97766 non-null  int64  \n",
      " 30  views_per_hour_norm  97766 non-null  float64\n",
      " 31  duration_timedelta   97766 non-null  object \n",
      " 32  duration_minutes     97766 non-null  float64\n",
      " 33  category_name        97766 non-null  object \n",
      "dtypes: bool(1), float64(6), int64(10), object(17)\n",
      "memory usage: 24.7+ MB\n"
     ]
    }
   ],
   "source": [
    "df.info()"
   ]
  },
  {
   "cell_type": "code",
   "execution_count": 5,
   "id": "ed7cb3ae",
   "metadata": {
    "execution": {
     "iopub.execute_input": "2025-09-16T10:30:34.248390Z",
     "iopub.status.busy": "2025-09-16T10:30:34.248007Z",
     "iopub.status.idle": "2025-09-16T10:30:34.357976Z",
     "shell.execute_reply": "2025-09-16T10:30:34.357070Z"
    },
    "papermill": {
     "duration": 0.116217,
     "end_time": "2025-09-16T10:30:34.359514",
     "exception": false,
     "start_time": "2025-09-16T10:30:34.243297",
     "status": "completed"
    },
    "tags": []
   },
   "outputs": [
    {
     "data": {
      "text/plain": [
       "title                  0\n",
       "channel_name           0\n",
       "video_id               0\n",
       "channel_id             0\n",
       "publish_date           0\n",
       "snapshot_date          0\n",
       "country                0\n",
       "view_count             0\n",
       "like_count             0\n",
       "comment_count          0\n",
       "description            0\n",
       "thumbnail_url          0\n",
       "video_tags             0\n",
       "kind                   0\n",
       "language               0\n",
       "category_id            0\n",
       "duration               0\n",
       "days_since_publish     0\n",
       "publish_weekday        0\n",
       "publish_hour           0\n",
       "is_weekend             0\n",
       "slot_id                0\n",
       "part_of_day            0\n",
       "views_per_hour         0\n",
       "is_holiday             0\n",
       "publish_date_naive     0\n",
       "title_len              0\n",
       "desc_len               0\n",
       "tag_count              0\n",
       "has_hashtag            0\n",
       "views_per_hour_norm    0\n",
       "duration_timedelta     0\n",
       "duration_minutes       0\n",
       "category_name          0\n",
       "dtype: int64"
      ]
     },
     "execution_count": 5,
     "metadata": {},
     "output_type": "execute_result"
    }
   ],
   "source": [
    "df.isnull().sum()"
   ]
  },
  {
   "cell_type": "code",
   "execution_count": 6,
   "id": "28d74ef3",
   "metadata": {
    "execution": {
     "iopub.execute_input": "2025-09-16T10:30:34.368279Z",
     "iopub.status.busy": "2025-09-16T10:30:34.367951Z",
     "iopub.status.idle": "2025-09-16T10:30:34.442901Z",
     "shell.execute_reply": "2025-09-16T10:30:34.442057Z"
    },
    "papermill": {
     "duration": 0.081103,
     "end_time": "2025-09-16T10:30:34.444563",
     "exception": false,
     "start_time": "2025-09-16T10:30:34.363460",
     "status": "completed"
    },
    "tags": []
   },
   "outputs": [],
   "source": [
    "numerical_features = ['view_count', 'like_count', 'comment_count', 'publish_hour', 'days_since_publish', \n",
    "                     'is_weekend', 'views_per_hour', 'duration_minutes', 'title_len', 'desc_len', 'tag_count']\n",
    "categorical_features = ['country', 'kind', 'language', 'category_id', 'part_of_day', 'is_holiday']\n",
    "\n",
    "# Handle missing values\n",
    "df[numerical_features] = df[numerical_features].fillna(0)\n",
    "df[categorical_features] = df[categorical_features].fillna('unknown')\n",
    "\n",
    "# Convert boolean to int (0/1) for is_weekend and is_holiday\n",
    "df['is_weekend'] = df['is_weekend'].astype(int)\n",
    "df['is_holiday'] = df['is_holiday'].astype(int)\n",
    "\n",
    "# Create vocabulary mappings with padding index for unknown\n",
    "vocab_maps = {}\n",
    "for cat in categorical_features:\n",
    "    unique_vals = df[cat].unique()\n",
    "    vocab_maps[cat] = {'unknown': 0}  # Padding/unknown index\n",
    "    vocab_maps[cat].update({val: idx + 1 for idx, val in enumerate(unique_vals[unique_vals != 'unknown'])})"
   ]
  },
  {
   "cell_type": "code",
   "execution_count": 7,
   "id": "1c36d90b",
   "metadata": {
    "execution": {
     "iopub.execute_input": "2025-09-16T10:30:34.453274Z",
     "iopub.status.busy": "2025-09-16T10:30:34.452909Z",
     "iopub.status.idle": "2025-09-16T10:30:34.540717Z",
     "shell.execute_reply": "2025-09-16T10:30:34.539759Z"
    },
    "papermill": {
     "duration": 0.09404,
     "end_time": "2025-09-16T10:30:34.542375",
     "exception": false,
     "start_time": "2025-09-16T10:30:34.448335",
     "status": "completed"
    },
    "tags": []
   },
   "outputs": [],
   "source": [
    "# Normalize numerical features with min-max scaling\n",
    "scaler = StandardScaler()\n",
    "df[numerical_features] = scaler.fit_transform(df[numerical_features])"
   ]
  },
  {
   "cell_type": "code",
   "execution_count": 8,
   "id": "dd961e8f",
   "metadata": {
    "execution": {
     "iopub.execute_input": "2025-09-16T10:30:34.551326Z",
     "iopub.status.busy": "2025-09-16T10:30:34.550507Z",
     "iopub.status.idle": "2025-09-16T10:30:34.643128Z",
     "shell.execute_reply": "2025-09-16T10:30:34.642133Z"
    },
    "papermill": {
     "duration": 0.09883,
     "end_time": "2025-09-16T10:30:34.644849",
     "exception": false,
     "start_time": "2025-09-16T10:30:34.546019",
     "status": "completed"
    },
    "tags": []
   },
   "outputs": [],
   "source": [
    "# Split into train/test (for inference on different subsets)\n",
    "train_df, test_df = train_test_split(df, test_size=0.2, random_state=42)"
   ]
  },
  {
   "cell_type": "code",
   "execution_count": 9,
   "id": "cfbe4a06",
   "metadata": {
    "execution": {
     "iopub.execute_input": "2025-09-16T10:30:34.653585Z",
     "iopub.status.busy": "2025-09-16T10:30:34.653256Z",
     "iopub.status.idle": "2025-09-16T10:30:34.659422Z",
     "shell.execute_reply": "2025-09-16T10:30:34.658447Z"
    },
    "papermill": {
     "duration": 0.012158,
     "end_time": "2025-09-16T10:30:34.660765",
     "exception": false,
     "start_time": "2025-09-16T10:30:34.648607",
     "status": "completed"
    },
    "tags": []
   },
   "outputs": [],
   "source": [
    "# Custom Dataset class for PyTorch\n",
    "class MetadataDataset(Dataset):\n",
    "    def __init__(self, df, numerical_features, categorical_features, vocab_maps):\n",
    "        self.numerical = torch.tensor(df[numerical_features].values, dtype=torch.float32)\n",
    "        self.categorical = {\n",
    "            cat: torch.tensor([vocab_maps[cat][val] for val in df[cat]], dtype=torch.long)\n",
    "            for cat in categorical_features\n",
    "        }\n",
    "\n",
    "    def __len__(self):\n",
    "        return len(self.numerical)\n",
    "\n",
    "    def __getitem__(self, idx):\n",
    "        return {\n",
    "            'numerical': self.numerical[idx],\n",
    "            **{cat: self.categorical[cat][idx] for cat in self.categorical}\n",
    "        }"
   ]
  },
  {
   "cell_type": "code",
   "execution_count": 10,
   "id": "5f9c2bb4",
   "metadata": {
    "execution": {
     "iopub.execute_input": "2025-09-16T10:30:34.669266Z",
     "iopub.status.busy": "2025-09-16T10:30:34.668922Z",
     "iopub.status.idle": "2025-09-16T10:30:34.854663Z",
     "shell.execute_reply": "2025-09-16T10:30:34.853577Z"
    },
    "papermill": {
     "duration": 0.191916,
     "end_time": "2025-09-16T10:30:34.856372",
     "exception": false,
     "start_time": "2025-09-16T10:30:34.664456",
     "status": "completed"
    },
    "tags": []
   },
   "outputs": [],
   "source": [
    "# Create datasets\n",
    "train_dataset = MetadataDataset(train_df, numerical_features, categorical_features, vocab_maps)\n",
    "test_dataset = MetadataDataset(test_df, numerical_features, categorical_features, vocab_maps)\n",
    "\n",
    "# DataLoaders\n",
    "batch_size = 32\n",
    "train_loader = DataLoader(train_dataset, batch_size=batch_size, shuffle=False)\n",
    "test_loader = DataLoader(test_dataset, batch_size=batch_size, shuffle=False)"
   ]
  },
  {
   "cell_type": "code",
   "execution_count": 11,
   "id": "2367a7be",
   "metadata": {
    "execution": {
     "iopub.execute_input": "2025-09-16T10:30:34.866421Z",
     "iopub.status.busy": "2025-09-16T10:30:34.865055Z",
     "iopub.status.idle": "2025-09-16T10:30:34.875725Z",
     "shell.execute_reply": "2025-09-16T10:30:34.874924Z"
    },
    "papermill": {
     "duration": 0.016977,
     "end_time": "2025-09-16T10:30:34.877172",
     "exception": false,
     "start_time": "2025-09-16T10:30:34.860195",
     "status": "completed"
    },
    "tags": []
   },
   "outputs": [],
   "source": [
    "# MetadataTower Module\n",
    "class MetadataTower(nn.Module):\n",
    "    def __init__(self, num_numerical, embed_dims, ffnn_layers=[128, 256], output_dim=256):\n",
    "        super(MetadataTower, self).__init__()\n",
    "        \n",
    "        # Categorical Embeddings with larger dims for semantic richness\n",
    "        self.embeddings = nn.ModuleDict({\n",
    "            cat: nn.Embedding(vocab_size, embed_dim, padding_idx=0)\n",
    "            for cat, (vocab_size, embed_dim) in embed_dims.items()\n",
    "        })\n",
    "        \n",
    "        # Attention mechanism for feature weighting\n",
    "        self.attention = nn.MultiheadAttention(embed_dim=output_dim, num_heads=4)\n",
    "        \n",
    "        # Calculate input dim for FFNN: numerical + sum of embed dims\n",
    "        embed_total_dim = sum(embed_dim for _, embed_dim in embed_dims.values())\n",
    "        input_dim = num_numerical + embed_total_dim\n",
    "        \n",
    "        # Feedforward Neural Network (MLP) with attention integration\n",
    "        layers = []\n",
    "        current_dim = input_dim\n",
    "        for hidden_dim in ffnn_layers:\n",
    "            layers.append(nn.Linear(current_dim, hidden_dim))\n",
    "            layers.append(nn.LayerNorm(hidden_dim))  # Add normalization for stability\n",
    "            layers.append(nn.ReLU())\n",
    "            current_dim = hidden_dim\n",
    "        layers.append(nn.Linear(current_dim, output_dim))\n",
    "        self.ffnn = nn.Sequential(*layers)\n",
    "\n",
    "    def forward(self, numerical, categorical):\n",
    "        # Embed categorical features\n",
    "        embed_outs = [self.embeddings[cat](categorical[cat]) for cat in categorical_features]\n",
    "        \n",
    "        # Concatenate embeddings and numerical features\n",
    "        combined = torch.cat([numerical] + embed_outs, dim=1)  # Shape: [batch, input_dim]\n",
    "        \n",
    "        # Pass through FFNN to get initial embedding\n",
    "        ffnn_out = self.ffnn(combined)  # Shape: [batch, output_dim]\n",
    "        \n",
    "        # Apply self-attention to capture semantic relationships\n",
    "        attn_out, _ = self.attention(ffnn_out.unsqueeze(1), ffnn_out.unsqueeze(1), ffnn_out.unsqueeze(1))\n",
    "        attn_out = attn_out.squeeze(1)  # Shape: [batch, output_dim]\n",
    "        \n",
    "        # Final metadata vector with semantic essence\n",
    "        metadata_vec = nn.functional.normalize(attn_out, p=2, dim=1)  # L2 normalization\n",
    "        return metadata_vec"
   ]
  },
  {
   "cell_type": "code",
   "execution_count": 12,
   "id": "93be394f",
   "metadata": {
    "execution": {
     "iopub.execute_input": "2025-09-16T10:30:34.887086Z",
     "iopub.status.busy": "2025-09-16T10:30:34.886733Z",
     "iopub.status.idle": "2025-09-16T10:30:34.933471Z",
     "shell.execute_reply": "2025-09-16T10:30:34.932460Z"
    },
    "papermill": {
     "duration": 0.053273,
     "end_time": "2025-09-16T10:30:34.935096",
     "exception": false,
     "start_time": "2025-09-16T10:30:34.881823",
     "status": "completed"
    },
    "tags": []
   },
   "outputs": [
    {
     "data": {
      "text/plain": [
       "MetadataTower(\n",
       "  (embeddings): ModuleDict(\n",
       "    (country): Embedding(2, 32, padding_idx=0)\n",
       "    (kind): Embedding(2, 16, padding_idx=0)\n",
       "    (language): Embedding(65, 64, padding_idx=0)\n",
       "    (category_id): Embedding(17, 32, padding_idx=0)\n",
       "    (part_of_day): Embedding(5, 16, padding_idx=0)\n",
       "    (is_holiday): Embedding(3, 8, padding_idx=0)\n",
       "  )\n",
       "  (attention): MultiheadAttention(\n",
       "    (out_proj): NonDynamicallyQuantizableLinear(in_features=256, out_features=256, bias=True)\n",
       "  )\n",
       "  (ffnn): Sequential(\n",
       "    (0): Linear(in_features=179, out_features=256, bias=True)\n",
       "    (1): LayerNorm((256,), eps=1e-05, elementwise_affine=True)\n",
       "    (2): ReLU()\n",
       "    (3): Linear(in_features=256, out_features=256, bias=True)\n",
       "    (4): LayerNorm((256,), eps=1e-05, elementwise_affine=True)\n",
       "    (5): ReLU()\n",
       "    (6): Linear(in_features=256, out_features=256, bias=True)\n",
       "  )\n",
       ")"
      ]
     },
     "execution_count": 12,
     "metadata": {},
     "output_type": "execute_result"
    }
   ],
   "source": [
    "# Model Instantiation\n",
    "# Embedding dims with increased sizes for semantic capture\n",
    "embed_dims = {\n",
    "    'country': (len(vocab_maps['country']), 32),\n",
    "    'kind': (len(vocab_maps['kind']), 16),\n",
    "    'language': (len(vocab_maps['language']), 64),\n",
    "    'category_id': (len(vocab_maps['category_id']), 32),\n",
    "    'part_of_day': (len(vocab_maps['part_of_day']), 16),\n",
    "    'is_holiday': (len(vocab_maps['is_holiday']), 8)\n",
    "}\n",
    "\n",
    "model = MetadataTower(\n",
    "    num_numerical=len(numerical_features),\n",
    "    embed_dims=embed_dims,\n",
    "    ffnn_layers=[256, 256],\n",
    "    output_dim=256\n",
    ")\n",
    "\n",
    "# Move to device\n",
    "device = torch.device(\"cuda\" if torch.cuda.is_available() else \"cpu\")\n",
    "model.to(device)"
   ]
  },
  {
   "cell_type": "code",
   "execution_count": 13,
   "id": "cef87139",
   "metadata": {
    "execution": {
     "iopub.execute_input": "2025-09-16T10:30:34.945076Z",
     "iopub.status.busy": "2025-09-16T10:30:34.944715Z",
     "iopub.status.idle": "2025-09-16T10:30:36.772023Z",
     "shell.execute_reply": "2025-09-16T10:30:36.770868Z"
    },
    "papermill": {
     "duration": 1.834676,
     "end_time": "2025-09-16T10:30:36.773675",
     "exception": false,
     "start_time": "2025-09-16T10:30:34.938999",
     "status": "completed"
    },
    "tags": []
   },
   "outputs": [
    {
     "name": "stdout",
     "output_type": "stream",
     "text": [
      "Total Embeddings Shape: (19554, 256)\n",
      "Sample Embedding (first 5 dims of first sample): [-0.03823535 -0.04874016 -0.0790294  -0.02878784  0.03985287]\n",
      "Metadata Tower built with semantic embeddings!\n"
     ]
    }
   ],
   "source": [
    "# Generate Embeddings\n",
    "model.eval()\n",
    "all_embeddings = []\n",
    "with torch.no_grad():\n",
    "    for batch in test_loader:\n",
    "        numerical = batch['numerical'].to(device)\n",
    "        categorical = {cat: batch[cat].to(device) for cat in categorical_features}\n",
    "        metadata_vec = model(numerical, categorical)\n",
    "        all_embeddings.append(metadata_vec.cpu().numpy())\n",
    "\n",
    "# Concatenate all batch embeddings\n",
    "all_embeddings = np.concatenate(all_embeddings, axis=0)\n",
    "print(\"Total Embeddings Shape:\", all_embeddings.shape)  # Should be [num_samples, 256]\n",
    "print(\"Sample Embedding (first 5 dims of first sample):\", all_embeddings[0][:5])\n",
    "\n",
    "print(\"Metadata Tower built with semantic embeddings!\")"
   ]
  }
 ],
 "metadata": {
  "kaggle": {
   "accelerator": "none",
   "dataSources": [
    {
     "datasetId": 8207902,
     "sourceId": 13052178,
     "sourceType": "datasetVersion"
    }
   ],
   "dockerImageVersionId": 31089,
   "isGpuEnabled": false,
   "isInternetEnabled": true,
   "language": "python",
   "sourceType": "notebook"
  },
  "kernelspec": {
   "display_name": "Python 3",
   "language": "python",
   "name": "python3"
  },
  "language_info": {
   "codemirror_mode": {
    "name": "ipython",
    "version": 3
   },
   "file_extension": ".py",
   "mimetype": "text/x-python",
   "name": "python",
   "nbconvert_exporter": "python",
   "pygments_lexer": "ipython3",
   "version": "3.11.13"
  },
  "papermill": {
   "default_parameters": {},
   "duration": 26.913079,
   "end_time": "2025-09-16T10:30:39.225380",
   "environment_variables": {},
   "exception": null,
   "input_path": "__notebook__.ipynb",
   "output_path": "__notebook__.ipynb",
   "parameters": {},
   "start_time": "2025-09-16T10:30:12.312301",
   "version": "2.6.0"
  }
 },
 "nbformat": 4,
 "nbformat_minor": 5
}
