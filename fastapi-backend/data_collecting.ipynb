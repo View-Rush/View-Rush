{
 "cells": [
  {
   "cell_type": "markdown",
   "id": "c0896e20",
   "metadata": {},
   "source": [
    "# Script for collecting data to train the fusion model."
   ]
  },
  {
   "cell_type": "code",
   "execution_count": 6,
   "id": "b9bb12de",
   "metadata": {},
   "outputs": [],
   "source": [
    "# Below is the correct script "
   ]
  },
  {
   "cell_type": "code",
   "execution_count": 5,
   "id": "7b177964",
   "metadata": {},
   "outputs": [
    {
     "name": "stdout",
     "output_type": "stream",
     "text": [
      "[1/1] Processing channel ID: UCAo_wAxH1WT6rFmK5yCd1Cg\n",
      "Saved results to channel_embedding_results.csv\n"
     ]
    }
   ],
   "source": [
    "import requests\n",
    "import pandas as pd\n",
    "import time\n",
    "\n",
    "# -------------------------------\n",
    "# Configurations\n",
    "# -------------------------------\n",
    "CHANNEL_IDS = [\n",
    "    # Add your 150 channel IDs here\n",
    "    \"UCAo_wAxH1WT6rFmK5yCd1Cg\"#yashnhass\n",
    "    # \"UCYFn7BOOlmL21iNJ6q5IDfg\",# lochi\n",
    "    # \"UCJbxRq_IlWyzvB9KK0Mrs8A\",#ratta\n",
    "    # \"UCRp1csKx1dx8rsmcD6f9q1g\"\n",
    "    \n",
    "    # ...\n",
    "]\n",
    "\n",
    "USER_PROFILING_URL = \"http://127.0.0.1:8000/user-profiling/\"\n",
    "CHANNEL_EMBED_URL = \"http://127.0.0.1:8000/embed/channel-embedding\"\n",
    "\n",
    "OUTPUT_CSV = \"channel_embedding_results.csv\"\n",
    "\n",
    "# -------------------------------\n",
    "# Function to get user profiling\n",
    "# -------------------------------\n",
    "def get_user_profiling(channel_id):\n",
    "    payload = {\"channel_id\": channel_id}\n",
    "    try:\n",
    "        response = requests.post(USER_PROFILING_URL, json=payload)\n",
    "        response.raise_for_status()\n",
    "        return response.json()\n",
    "    except Exception as e:\n",
    "        print(f\"Error profiling channel {channel_id}: {e}\")\n",
    "        return None\n",
    "\n",
    "# -------------------------------\n",
    "# Function to get channel embedding\n",
    "# -------------------------------\n",
    "def get_channel_embedding(user_profile_response):\n",
    "    try:\n",
    "        response = requests.post(CHANNEL_EMBED_URL, json=user_profile_response)\n",
    "        response.raise_for_status()\n",
    "        return response.json()\n",
    "    except Exception as e:\n",
    "        print(f\"Error embedding channel {user_profile_response.get('channel_title', 'Unknown')}: {e}\")\n",
    "        return None\n",
    "\n",
    "# -------------------------------\n",
    "# Main loop\n",
    "# -------------------------------\n",
    "results = []\n",
    "\n",
    "for idx, channel_id in enumerate(CHANNEL_IDS, 1):\n",
    "    print(f\"[{idx}/{len(CHANNEL_IDS)}] Processing channel ID: {channel_id}\")\n",
    "\n",
    "    # 1. Get user profiling\n",
    "    user_profile = get_user_profiling(channel_id)\n",
    "    if user_profile is None:\n",
    "        results.append({\"channel_id\": channel_id, \"embedding_response\": None})\n",
    "        continue\n",
    "\n",
    "    # 2. Get channel embedding\n",
    "    embedding_response = get_channel_embedding(user_profile)\n",
    "    if embedding_response is None:\n",
    "        results.append({\"channel_id\": channel_id, \"embedding_response\": None})\n",
    "        continue\n",
    "\n",
    "    # 3. Save the result\n",
    "    results.append({\"channel_id\": channel_id, \"embedding_response\": embedding_response['embedding']})\n",
    "\n",
    "    # Optional: avoid hitting the server too fast\n",
    "    time.sleep(0.1)  # sleep 100ms between requests\n",
    "\n",
    "# -------------------------------\n",
    "# Save results to CSV\n",
    "# -------------------------------\n",
    "df = pd.DataFrame(results)\n",
    "df.to_csv(OUTPUT_CSV, index=False)\n",
    "print(f\"Saved results to {OUTPUT_CSV}\")\n"
   ]
  },
  {
   "cell_type": "code",
   "execution_count": 7,
   "id": "237ef87e",
   "metadata": {},
   "outputs": [
    {
     "data": {
      "text/html": [
       "<div>\n",
       "<style scoped>\n",
       "    .dataframe tbody tr th:only-of-type {\n",
       "        vertical-align: middle;\n",
       "    }\n",
       "\n",
       "    .dataframe tbody tr th {\n",
       "        vertical-align: top;\n",
       "    }\n",
       "\n",
       "    .dataframe thead th {\n",
       "        text-align: right;\n",
       "    }\n",
       "</style>\n",
       "<table border=\"1\" class=\"dataframe\">\n",
       "  <thead>\n",
       "    <tr style=\"text-align: right;\">\n",
       "      <th></th>\n",
       "      <th>channel_id</th>\n",
       "      <th>embedding_response</th>\n",
       "    </tr>\n",
       "  </thead>\n",
       "  <tbody>\n",
       "    <tr>\n",
       "      <th>0</th>\n",
       "      <td>UCAo_wAxH1WT6rFmK5yCd1Cg</td>\n",
       "      <td>[0.04781635105609894, 0.06638624519109726, -0....</td>\n",
       "    </tr>\n",
       "  </tbody>\n",
       "</table>\n",
       "</div>"
      ],
      "text/plain": [
       "                 channel_id                                 embedding_response\n",
       "0  UCAo_wAxH1WT6rFmK5yCd1Cg  [0.04781635105609894, 0.06638624519109726, -0...."
      ]
     },
     "execution_count": 7,
     "metadata": {},
     "output_type": "execute_result"
    }
   ],
   "source": [
    "df = pd.read_csv('channel_embedding_results.csv')\n",
    "df"
   ]
  },
  {
   "cell_type": "code",
   "execution_count": 3,
   "id": "8943d3d9",
   "metadata": {},
   "outputs": [
    {
     "name": "stdout",
     "output_type": "stream",
     "text": [
      "[1/3] Fetching channel ID: UCAo_wAxH1WT6rFmK5yCd1Cg\n",
      "[2/3] Fetching channel ID: UCYFn7BOOlmL21iNJ6q5IDfg\n",
      "[3/3] Fetching channel ID: UCJbxRq_IlWyzvB9KK0Mrs8A\n",
      "Saved 3 channel responses to channel_fetching_results.json\n"
     ]
    }
   ],
   "source": [
    "import requests\n",
    "import pandas as pd\n",
    "import time\n",
    "\n",
    "# -------------------------------\n",
    "# Configurations\n",
    "# -------------------------------\n",
    "\n",
    "CHANNEL_IDS = [\n",
    "    \"UCAo_wAxH1WT6rFmK5yCd1Cg\",\n",
    "    \"UCYFn7BOOlmL21iNJ6q5IDfg\",\n",
    "    \"UCJbxRq_IlWyzvB9KK0Mrs8A\"\n",
    "    # Add the rest of your 150 IDs\n",
    "]\n",
    "\n",
    "# FastAPI endpoint\n",
    "USER_PROFILING_URL = \"http://127.0.0.1:8000/user-profiling/\"\n",
    "\n",
    "OUTPUT_CSV = \"channel_fetching_results.csv\"\n",
    "\n",
    "# -------------------------------\n",
    "# Functions\n",
    "# -------------------------------\n",
    "def get_user_profiling(channel_id):\n",
    "    \"\"\"Fetch channel details via FastAPI.\"\"\"\n",
    "    payload = {\"channel_id\": channel_id}\n",
    "    try:\n",
    "        response = requests.post(USER_PROFILING_URL, json=payload)\n",
    "        response.raise_for_status()\n",
    "        return response.json()\n",
    "    except Exception as e:\n",
    "        print(f\"Error fetching channel {channel_id}: {e}\")\n",
    "        return None\n",
    "\n",
    "# -------------------------------\n",
    "# Main loop\n",
    "# -------------------------------\n",
    "all_responses = []\n",
    "\n",
    "for idx, channel_id in enumerate(CHANNEL_IDS, 1):\n",
    "    print(f\"[{idx}/{len(CHANNEL_IDS)}] Fetching channel ID: {channel_id}\")\n",
    "\n",
    "    user_profile = get_user_profiling(channel_id)\n",
    "    if user_profile is not None:\n",
    "        all_responses.append(user_profile)\n",
    "    \n",
    "    time.sleep(0.2)  # small delay to avoid rate limiting\n",
    "\n",
    "# -------------------------------\n",
    "# Save results\n",
    "# -------------------------------\n",
    "# Save as JSON lines for easier later processing\n",
    "import json\n",
    "with open(\"channel_fetching_results.json\", \"w\", encoding=\"utf-8\") as f:\n",
    "    for item in all_responses:\n",
    "        json.dump(item, f)\n",
    "        f.write(\"\\n\")\n",
    "\n",
    "print(f\"Saved {len(all_responses)} channel responses to channel_fetching_results.json\")\n"
   ]
  },
  {
   "cell_type": "code",
   "execution_count": 4,
   "id": "031eb3b8",
   "metadata": {},
   "outputs": [
    {
     "data": {
      "text/html": [
       "<div>\n",
       "<style scoped>\n",
       "    .dataframe tbody tr th:only-of-type {\n",
       "        vertical-align: middle;\n",
       "    }\n",
       "\n",
       "    .dataframe tbody tr th {\n",
       "        vertical-align: top;\n",
       "    }\n",
       "\n",
       "    .dataframe thead th {\n",
       "        text-align: right;\n",
       "    }\n",
       "</style>\n",
       "<table border=\"1\" class=\"dataframe\">\n",
       "  <thead>\n",
       "    <tr style=\"text-align: right;\">\n",
       "      <th></th>\n",
       "      <th>channel_id</th>\n",
       "      <th>embedding_response</th>\n",
       "    </tr>\n",
       "  </thead>\n",
       "  <tbody>\n",
       "    <tr>\n",
       "      <th>0</th>\n",
       "      <td>UCAo_wAxH1WT6rFmK5yCd1Cg</td>\n",
       "      <td>{'embedding': [0.047871872782707214, 0.0662819...</td>\n",
       "    </tr>\n",
       "  </tbody>\n",
       "</table>\n",
       "</div>"
      ],
      "text/plain": [
       "                 channel_id                                 embedding_response\n",
       "0  UCAo_wAxH1WT6rFmK5yCd1Cg  {'embedding': [0.047871872782707214, 0.0662819..."
      ]
     },
     "execution_count": 4,
     "metadata": {},
     "output_type": "execute_result"
    }
   ],
   "source": [
    "df_emb = pd.read_csv('channel_embedding_results.csv')\n",
    "df_emb"
   ]
  },
  {
   "cell_type": "code",
   "execution_count": null,
   "id": "f3634570",
   "metadata": {},
   "outputs": [],
   "source": []
  }
 ],
 "metadata": {
  "kernelspec": {
   "display_name": "dsep_env",
   "language": "python",
   "name": "python3"
  },
  "language_info": {
   "codemirror_mode": {
    "name": "ipython",
    "version": 3
   },
   "file_extension": ".py",
   "mimetype": "text/x-python",
   "name": "python",
   "nbconvert_exporter": "python",
   "pygments_lexer": "ipython3",
   "version": "3.11.13"
  }
 },
 "nbformat": 4,
 "nbformat_minor": 5
}
